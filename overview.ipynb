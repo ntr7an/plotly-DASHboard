{
 "cells": [
  {
   "cell_type": "code",
   "execution_count": 1,
   "metadata": {},
   "outputs": [],
   "source": [
    "import pandas as pd"
   ]
  },
  {
   "cell_type": "code",
   "execution_count": 2,
   "metadata": {},
   "outputs": [
    {
     "data": {
      "text/html": [
       "<div>\n",
       "<style scoped>\n",
       "    .dataframe tbody tr th:only-of-type {\n",
       "        vertical-align: middle;\n",
       "    }\n",
       "\n",
       "    .dataframe tbody tr th {\n",
       "        vertical-align: top;\n",
       "    }\n",
       "\n",
       "    .dataframe thead th {\n",
       "        text-align: right;\n",
       "    }\n",
       "</style>\n",
       "<table border=\"1\" class=\"dataframe\">\n",
       "  <thead>\n",
       "    <tr style=\"text-align: right;\">\n",
       "      <th></th>\n",
       "      <th>Country</th>\n",
       "      <th>Continent</th>\n",
       "      <th>Year</th>\n",
       "      <th>Beverage</th>\n",
       "      <th>Consumption_Liters_Per_Capita</th>\n",
       "      <th>Alcohol_Strength</th>\n",
       "      <th>Avg_Price_Per_Liter</th>\n",
       "    </tr>\n",
       "  </thead>\n",
       "  <tbody>\n",
       "    <tr>\n",
       "      <th>0</th>\n",
       "      <td>Germany</td>\n",
       "      <td>Europe</td>\n",
       "      <td>2015</td>\n",
       "      <td>Spirits</td>\n",
       "      <td>4.69</td>\n",
       "      <td>High Alcohol</td>\n",
       "      <td>11.48</td>\n",
       "    </tr>\n",
       "    <tr>\n",
       "      <th>1</th>\n",
       "      <td>Russia</td>\n",
       "      <td>Europe</td>\n",
       "      <td>2018</td>\n",
       "      <td>Wine</td>\n",
       "      <td>30.10</td>\n",
       "      <td>Medium Alcohol</td>\n",
       "      <td>7.69</td>\n",
       "    </tr>\n",
       "    <tr>\n",
       "      <th>2</th>\n",
       "      <td>Germany</td>\n",
       "      <td>Europe</td>\n",
       "      <td>2023</td>\n",
       "      <td>Beer</td>\n",
       "      <td>13.17</td>\n",
       "      <td>Low Alcohol</td>\n",
       "      <td>2.22</td>\n",
       "    </tr>\n",
       "    <tr>\n",
       "      <th>3</th>\n",
       "      <td>Australia</td>\n",
       "      <td>Oceania</td>\n",
       "      <td>2021</td>\n",
       "      <td>Beer</td>\n",
       "      <td>9.13</td>\n",
       "      <td>Low Alcohol</td>\n",
       "      <td>2.78</td>\n",
       "    </tr>\n",
       "    <tr>\n",
       "      <th>4</th>\n",
       "      <td>USA</td>\n",
       "      <td>North America</td>\n",
       "      <td>2016</td>\n",
       "      <td>Wine</td>\n",
       "      <td>1.70</td>\n",
       "      <td>Medium Alcohol</td>\n",
       "      <td>5.81</td>\n",
       "    </tr>\n",
       "    <tr>\n",
       "      <th>...</th>\n",
       "      <td>...</td>\n",
       "      <td>...</td>\n",
       "      <td>...</td>\n",
       "      <td>...</td>\n",
       "      <td>...</td>\n",
       "      <td>...</td>\n",
       "      <td>...</td>\n",
       "    </tr>\n",
       "    <tr>\n",
       "      <th>495</th>\n",
       "      <td>Japan</td>\n",
       "      <td>Asia</td>\n",
       "      <td>2017</td>\n",
       "      <td>Cocktails</td>\n",
       "      <td>4.36</td>\n",
       "      <td>Medium Alcohol</td>\n",
       "      <td>6.88</td>\n",
       "    </tr>\n",
       "    <tr>\n",
       "      <th>496</th>\n",
       "      <td>India</td>\n",
       "      <td>Asia</td>\n",
       "      <td>2020</td>\n",
       "      <td>Beer</td>\n",
       "      <td>8.76</td>\n",
       "      <td>Low Alcohol</td>\n",
       "      <td>2.89</td>\n",
       "    </tr>\n",
       "    <tr>\n",
       "      <th>497</th>\n",
       "      <td>China</td>\n",
       "      <td>Asia</td>\n",
       "      <td>2016</td>\n",
       "      <td>Wine</td>\n",
       "      <td>0.81</td>\n",
       "      <td>Medium Alcohol</td>\n",
       "      <td>5.99</td>\n",
       "    </tr>\n",
       "    <tr>\n",
       "      <th>498</th>\n",
       "      <td>China</td>\n",
       "      <td>Asia</td>\n",
       "      <td>2024</td>\n",
       "      <td>Cider</td>\n",
       "      <td>36.65</td>\n",
       "      <td>Low Alcohol</td>\n",
       "      <td>3.52</td>\n",
       "    </tr>\n",
       "    <tr>\n",
       "      <th>499</th>\n",
       "      <td>South Africa</td>\n",
       "      <td>Africa</td>\n",
       "      <td>2016</td>\n",
       "      <td>Cider</td>\n",
       "      <td>42.84</td>\n",
       "      <td>Low Alcohol</td>\n",
       "      <td>2.78</td>\n",
       "    </tr>\n",
       "  </tbody>\n",
       "</table>\n",
       "<p>500 rows × 7 columns</p>\n",
       "</div>"
      ],
      "text/plain": [
       "          Country      Continent  Year   Beverage  \\\n",
       "0         Germany         Europe  2015    Spirits   \n",
       "1          Russia         Europe  2018       Wine   \n",
       "2         Germany         Europe  2023       Beer   \n",
       "3       Australia        Oceania  2021       Beer   \n",
       "4             USA  North America  2016       Wine   \n",
       "..            ...            ...   ...        ...   \n",
       "495         Japan           Asia  2017  Cocktails   \n",
       "496         India           Asia  2020       Beer   \n",
       "497         China           Asia  2016       Wine   \n",
       "498         China           Asia  2024      Cider   \n",
       "499  South Africa         Africa  2016      Cider   \n",
       "\n",
       "     Consumption_Liters_Per_Capita Alcohol_Strength  Avg_Price_Per_Liter  \n",
       "0                             4.69     High Alcohol                11.48  \n",
       "1                            30.10   Medium Alcohol                 7.69  \n",
       "2                            13.17      Low Alcohol                 2.22  \n",
       "3                             9.13      Low Alcohol                 2.78  \n",
       "4                             1.70   Medium Alcohol                 5.81  \n",
       "..                             ...              ...                  ...  \n",
       "495                           4.36   Medium Alcohol                 6.88  \n",
       "496                           8.76      Low Alcohol                 2.89  \n",
       "497                           0.81   Medium Alcohol                 5.99  \n",
       "498                          36.65      Low Alcohol                 3.52  \n",
       "499                          42.84      Low Alcohol                 2.78  \n",
       "\n",
       "[500 rows x 7 columns]"
      ]
     },
     "execution_count": 2,
     "metadata": {},
     "output_type": "execute_result"
    }
   ],
   "source": [
    "df = pd.read_csv(\"global_alcohol_consumption.csv\")\n",
    "df"
   ]
  },
  {
   "cell_type": "code",
   "execution_count": 3,
   "metadata": {},
   "outputs": [
    {
     "name": "stdout",
     "output_type": "stream",
     "text": [
      "<class 'pandas.core.frame.DataFrame'>\n",
      "RangeIndex: 500 entries, 0 to 499\n",
      "Data columns (total 7 columns):\n",
      " #   Column                         Non-Null Count  Dtype  \n",
      "---  ------                         --------------  -----  \n",
      " 0   Country                        500 non-null    object \n",
      " 1   Continent                      500 non-null    object \n",
      " 2   Year                           500 non-null    int64  \n",
      " 3   Beverage                       500 non-null    object \n",
      " 4   Consumption_Liters_Per_Capita  500 non-null    float64\n",
      " 5   Alcohol_Strength               500 non-null    object \n",
      " 6   Avg_Price_Per_Liter            500 non-null    float64\n",
      "dtypes: float64(2), int64(1), object(4)\n",
      "memory usage: 27.5+ KB\n"
     ]
    }
   ],
   "source": [
    "df.info()"
   ]
  },
  {
   "cell_type": "code",
   "execution_count": 4,
   "metadata": {},
   "outputs": [
    {
     "data": {
      "text/plain": [
       "Beverage\n",
       "Cocktails    114\n",
       "Cider        102\n",
       "Beer         101\n",
       "Spirits      100\n",
       "Wine          83\n",
       "Name: count, dtype: int64"
      ]
     },
     "execution_count": 4,
     "metadata": {},
     "output_type": "execute_result"
    }
   ],
   "source": [
    "df[\"Beverage\"].value_counts()"
   ]
  },
  {
   "cell_type": "code",
   "execution_count": 9,
   "metadata": {},
   "outputs": [
    {
     "data": {
      "text/plain": [
       "Beverage\n",
       "Spirits    100\n",
       "Name: count, dtype: int64"
      ]
     },
     "execution_count": 9,
     "metadata": {},
     "output_type": "execute_result"
    }
   ],
   "source": [
    "df[df[\"Alcohol_Strength\"] == \"High Alcohol\"][\"Beverage\"].value_counts()"
   ]
  }
 ],
 "metadata": {
  "kernelspec": {
   "display_name": "Python 3",
   "language": "python",
   "name": "python3"
  },
  "language_info": {
   "codemirror_mode": {
    "name": "ipython",
    "version": 3
   },
   "file_extension": ".py",
   "mimetype": "text/x-python",
   "name": "python",
   "nbconvert_exporter": "python",
   "pygments_lexer": "ipython3",
   "version": "3.11.5"
  }
 },
 "nbformat": 4,
 "nbformat_minor": 2
}
